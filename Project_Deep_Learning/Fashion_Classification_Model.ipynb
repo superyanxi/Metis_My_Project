{
 "cells": [
  {
   "cell_type": "code",
   "execution_count": 1,
   "metadata": {},
   "outputs": [
    {
     "name": "stderr",
     "output_type": "stream",
     "text": [
      "Using TensorFlow backend.\n",
      "/Users/yanxilu/anaconda/lib/python3.6/importlib/_bootstrap.py:205: RuntimeWarning: compiletime version 3.5 of module 'tensorflow.python.framework.fast_tensor_util' does not match runtime version 3.6\n",
      "  return f(*args, **kwds)\n"
     ]
    }
   ],
   "source": [
    "from keras import backend as K\n",
    "K.set_image_dim_ordering('th')\n",
    "\n",
    "from keras.models import Sequential\n",
    "from keras.layers.core import Flatten, Dense, Dropout, Activation\n",
    "from keras.layers.convolutional import Convolution2D, MaxPooling2D, ZeroPadding2D\n",
    "from keras.optimizers import SGD\n",
    "import cv2, numpy as np\n",
    "import pandas as pd"
   ]
  },
  {
   "cell_type": "code",
   "execution_count": 2,
   "metadata": {
    "collapsed": true
   },
   "outputs": [],
   "source": [
    "from keras.models import Model"
   ]
  },
  {
   "cell_type": "code",
   "execution_count": 3,
   "metadata": {
    "collapsed": true
   },
   "outputs": [],
   "source": [
    "from matplotlib import pyplot as plt"
   ]
  },
  {
   "cell_type": "code",
   "execution_count": 4,
   "metadata": {
    "collapsed": true
   },
   "outputs": [],
   "source": [
    "from keras.applications.vgg16 import VGG16\n",
    "from keras.applications import ResNet50\n",
    "from keras.applications.imagenet_utils import decode_predictions\n",
    "from sklearn.metrics.pairwise import cosine_similarity"
   ]
  },
  {
   "cell_type": "code",
   "execution_count": 5,
   "metadata": {
    "collapsed": true
   },
   "outputs": [],
   "source": [
    "import tensorflow as tf\n",
    "from skimage import exposure\n",
    "from tensorflow import layers\n",
    "from sklearn.preprocessing import LabelBinarizer\n",
    "from sklearn.preprocessing import StandardScaler"
   ]
  },
  {
   "cell_type": "code",
   "execution_count": 6,
   "metadata": {
    "collapsed": true
   },
   "outputs": [],
   "source": [
    "from keras.models import load_model\n",
    "from keras.preprocessing.image import ImageDataGenerator"
   ]
  },
  {
   "cell_type": "code",
   "execution_count": null,
   "metadata": {
    "collapsed": true
   },
   "outputs": [],
   "source": [
    "#Preprocess Images\n",
    "def prepare_image(image_path):\n",
    "    im = cv2.resize(cv2.imread(image_path), (224, 224)).astype(np.float32)\n",
    "\n",
    "    im[:,:,0] -= 103.939\n",
    "    im[:,:,1] -= 116.779\n",
    "    im[:,:,2] -= 123.68\n",
    "    im = im.transpose((2,0,1))\n",
    "    im = np.expand_dims(im, axis=0)\n",
    "    return im"
   ]
  },
  {
   "cell_type": "markdown",
   "metadata": {},
   "source": [
    "Training Model\n",
    "There are four categories of the train_data (X_train): <br/>\n",
    "Hoodie_Sweater <br/>\n",
    "Shirt_Blouses <br/>\n",
    "Jacket_Coat <br/>\n",
    "T-Shirt"
   ]
  },
  {
   "cell_type": "code",
   "execution_count": null,
   "metadata": {
    "collapsed": true
   },
   "outputs": [],
   "source": [
    "#Data Generator for Validation Data\n",
    "train, validation, labels, labelsvalidation = train_test_split(X_train, y_train, test_size=0.25, random_state=42)\n",
    "validationdatagenerator = ImageDataGenerator()\n",
    "traindatagenerator = ImageDataGenerator(width_shift_range=0.2,height_shift_range=0.2,rotation_range=10,zoom_range=0.1 )\n",
    "#Data Generator for Traning Data\n",
    "train_generator=traindatagenerator.flow(train, labels, batch_size=batchsize) \n",
    "validation_generator=validationdatagenerator.flow(validation, labelsvalidation,batch_size=batchsize)"
   ]
  },
  {
   "cell_type": "code",
   "execution_count": null,
   "metadata": {
    "collapsed": true
   },
   "outputs": [],
   "source": [
    "datagen = ImageDataGenerator(\n",
    "    featurewise_center=True,\n",
    "    featurewise_std_normalization=True,\n",
    "    rotation_range=10,\n",
    "    width_shift_range=0.2,\n",
    "    height_shift_range=0.2,\n",
    "    horizontal_flip=True)\n",
    "datagen.fit(X_train)"
   ]
  },
  {
   "cell_type": "code",
   "execution_count": null,
   "metadata": {
    "collapsed": true
   },
   "outputs": [],
   "source": [
    "#Architecture of Convolutional Neural Network"
   ]
  },
  {
   "cell_type": "code",
   "execution_count": null,
   "metadata": {
    "collapsed": true
   },
   "outputs": [],
   "source": [
    "model_resnet = ResNet50(weights = \"imagenet\")\n",
    "model_resnet.layers.pop()\n",
    "new_model = Sequential()\n",
    "new_model.add(model_resnet)\n",
    "for layer in new_model.layers[:-3]:\n",
    "    layer.trainable = False\n",
    "#Three more trainable layers are added. \n",
    "new_model.add(Dense(500,activation='relu'))\n",
    "new_model.add(Dropout(0.1))\n",
    "new_model.add(Dense(250,activation='relu'))\n",
    "new_model.add(Dropout(0.1))\n",
    "new_model.add(Dense(4))\n",
    "new_model.add(Activation('softmax'))\n",
    "new_model.compile(optimizer=optimizers.RMSprop(lr=0.0001),\n",
    "              loss='categorical_crossentropy', metrics=['accuracy'])"
   ]
  },
  {
   "cell_type": "code",
   "execution_count": null,
   "metadata": {
    "collapsed": true
   },
   "outputs": [],
   "source": [
    "#Fitting the Model\n",
    "new_model.fit_generator(train_generator, steps_per_epoch=int(len(train)/batchsize), epochs=30,verbose=1,validation_data=validation_generator, validation_steps=int(len(validation)/batchsize),)"
   ]
  },
  {
   "cell_type": "code",
   "execution_count": null,
   "metadata": {
    "collapsed": true
   },
   "outputs": [],
   "source": [
    "#Saving the Model\n",
    "new_model.save_weights(\"new_model_weights.hdf5\")"
   ]
  },
  {
   "cell_type": "markdown",
   "metadata": {},
   "source": [
    "Extracting Feature Vector from the third to the last layers"
   ]
  },
  {
   "cell_type": "code",
   "execution_count": null,
   "metadata": {
    "collapsed": true
   },
   "outputs": [],
   "source": [
    "#Only the third to the last layer is extracted. \n",
    "embedded_features_model = Sequential()\n",
    "embedded_features_model = Model(inputs=new_model.input, \n",
    "                                        outputs=new_model.get_layer(index=-3).output)\n",
    "#Size of the feature vector.\n",
    "embedded_features_model.output_shape\n",
    "#Get feature vector and compare the similarity. \n",
    "test_v1_fc2 = embedded_features_model.predict(pic1)\n",
    "test_v2_fc2 = embedded_features_model.predict(pic2)\n",
    "cosine_similarity(test_v1_fc2,test_v2_fc2)"
   ]
  },
  {
   "cell_type": "code",
   "execution_count": null,
   "metadata": {
    "collapsed": true
   },
   "outputs": [],
   "source": []
  }
 ],
 "metadata": {
  "kernelspec": {
   "display_name": "Python 3",
   "language": "python",
   "name": "python3"
  },
  "language_info": {
   "codemirror_mode": {
    "name": "ipython",
    "version": 3
   },
   "file_extension": ".py",
   "mimetype": "text/x-python",
   "name": "python",
   "nbconvert_exporter": "python",
   "pygments_lexer": "ipython3",
   "version": "3.6.1"
  }
 },
 "nbformat": 4,
 "nbformat_minor": 2
}
