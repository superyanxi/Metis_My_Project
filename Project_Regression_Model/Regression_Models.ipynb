{
 "cells": [
  {
   "cell_type": "code",
   "execution_count": 2,
   "metadata": {
    "collapsed": true
   },
   "outputs": [],
   "source": [
    "from __future__ import print_function, division\n",
    "import requests\n",
    "import time\n",
    "from bs4 import BeautifulSoup\n",
    "import random\n",
    "import pandas as pd\n",
    "import numpy as np\n",
    "import matplotlib.pyplot as plt\n",
    "import re\n",
    "import sys\n",
    "from collections import defaultdict\n",
    "\n",
    "from IPython.display import Image\n",
    "%matplotlib inline\n",
    "from sklearn.metrics import mean_absolute_error, mean_squared_error\n",
    "from sklearn.metrics import r2_score\n",
    "from sklearn.pipeline import Pipeline\n",
    "from sklearn.preprocessing import StandardScaler\n",
    "from sklearn.externals.six import StringIO\n",
    "from sklearn import tree\n",
    "from sklearn.ensemble import RandomForestRegressor\n",
    "from sklearn.preprocessing import PolynomialFeatures"
   ]
  },
  {
   "cell_type": "code",
   "execution_count": 3,
   "metadata": {},
   "outputs": [
    {
     "name": "stderr",
     "output_type": "stream",
     "text": [
      "/Users/yanxilu/anaconda/lib/python3.6/site-packages/sklearn/cross_validation.py:44: DeprecationWarning: This module was deprecated in version 0.18 in favor of the model_selection module into which all the refactored classes and functions are moved. Also note that the interface of the new CV iterators are different from that of this module. This module will be removed in 0.20.\n",
      "  \"This module will be removed in 0.20.\", DeprecationWarning)\n"
     ]
    }
   ],
   "source": [
    "import seaborn as sns\n",
    "\n",
    "%matplotlib inline\n",
    "\n",
    "from sklearn.cross_validation import train_test_split\n",
    "\n",
    "from sklearn.linear_model import LinearRegression, Lasso, LassoCV"
   ]
  },
  {
   "cell_type": "code",
   "execution_count": 4,
   "metadata": {},
   "outputs": [],
   "source": [
    "smaller_df = pd.read_pickle('Data Sources/Final_DataFrame')"
   ]
  },
  {
   "cell_type": "code",
   "execution_count": 5,
   "metadata": {},
   "outputs": [
    {
     "data": {
      "text/plain": [
       "[('f_to_s', -0.10852792169083215),\n",
       " ('intera_r', -0.10852792031612048),\n",
       " ('numberstudent', 1.4146812351080307e-05),\n",
       " ('Citation', 4.2403429466690828e-06),\n",
       " ('Salary', -7.8364105098116879e-05),\n",
       " ('GDP', 8.2276298440930873e-08),\n",
       " ('Endowment', -0.35738590923621771),\n",
       " ('Teaching', 0.40765336913785866),\n",
       " ('Research', 0.36828714575180066),\n",
       " ('International Outlook', 0.12438620158093017),\n",
       " ('Private', -2.4918894480602098),\n",
       " ('Acceptance', -15.284336699264685),\n",
       " ('Diversity', -0.15316037649931047)]"
      ]
     },
     "execution_count": 5,
     "metadata": {},
     "output_type": "execute_result"
    }
   ],
   "source": [
    "X =smaller_df.loc[:,[\"f_to_s\",\"intera_r\",\"numberstudent\",\"Citation\",\"Salary\",\"GDP\",\"Endowment\",\"Teaching\",\"Research\",\"International Outlook\",\"Private\",\"Acceptance\",\"Diversity\"]]\n",
    "y = smaller_df[\"Overall\"]\n",
    "X_train, X_test, y_train, y_test = train_test_split(X, y, test_size=0.3)\n",
    "lr_model1 = LinearRegression()\n",
    "lr_model1.fit(X_train,y_train)\n",
    "list(zip(X_train.columns,lr_model1.coef_))"
   ]
  },
  {
   "cell_type": "code",
   "execution_count": 6,
   "metadata": {},
   "outputs": [
    {
     "name": "stdout",
     "output_type": "stream",
     "text": [
      "0.94400746718\n",
      "0.943971591515\n"
     ]
    }
   ],
   "source": [
    "print(lr_model1.score(X_train,y_train))\n",
    "print(lr_model1.score(X_test,y_test))"
   ]
  },
  {
   "cell_type": "code",
   "execution_count": 7,
   "metadata": {},
   "outputs": [
    {
     "data": {
      "text/plain": [
       "[('f_to_s', -0.7741475476274966),\n",
       " ('intera_r', -0.77414754762749283),\n",
       " ('numberstudent', 0.17106291314493527),\n",
       " ('Citation', 1.4977649122855783),\n",
       " ('Salary', -0.98436509538674777),\n",
       " ('GDP', 0.060694558443579183),\n",
       " ('Endowment', -2.4526890935373675),\n",
       " ('Teaching', 8.1537586244029132),\n",
       " ('Research', 9.505099781382528),\n",
       " ('International Outlook', 1.918808393864347),\n",
       " ('Private', -1.1606485676564833),\n",
       " ('Acceptance', -3.328469108737715),\n",
       " ('Diversity', -0.2787289244845903)]"
      ]
     },
     "execution_count": 7,
     "metadata": {},
     "output_type": "execute_result"
    }
   ],
   "source": [
    "#Full_model_Regression (Basic) with standardize\n",
    "std = StandardScaler()\n",
    "std.fit(X_train)\n",
    "X_te = std.transform(X_test)\n",
    "X_tr = std.transform(X_train)\n",
    "\n",
    "lr_model2 = LinearRegression()\n",
    "lr_model2.fit(X_tr,y_train)\n",
    "list(zip(X_train.columns,lr_model2.coef_))"
   ]
  },
  {
   "cell_type": "code",
   "execution_count": 8,
   "metadata": {},
   "outputs": [
    {
     "data": {
      "text/plain": [
       "<matplotlib.collections.PathCollection at 0x10c855c50>"
      ]
     },
     "execution_count": 8,
     "metadata": {},
     "output_type": "execute_result"
    },
    {
     "data": {
      "image/png": "[encoded data removed]",
      "text/plain": [
       "<matplotlib.figure.Figure at 0x10cdc6780>"
      ]
     },
     "metadata": {},
     "output_type": "display_data"
    }
   ],
   "source": [
    "test_set_pred1 = lr_model1.predict(X_test)\n",
    "plt.scatter(test_set_pred1,y_test,alpha=.1,color = \"b\")"
   ]
  },
  {
   "cell_type": "code",
   "execution_count": 9,
   "metadata": {},
   "outputs": [
    {
     "data": {
      "text/plain": [
       "<matplotlib.collections.PathCollection at 0x11c293550>"
      ]
     },
     "execution_count": 9,
     "metadata": {},
     "output_type": "execute_result"
    },
    {
     "data": {
      "image/png": "[encoded data removed]",
      "text/plain": [
       "<matplotlib.figure.Figure at 0x11c2fdd68>"
      ]
     },
     "metadata": {},
     "output_type": "display_data"
    }
   ],
   "source": [
    "plt.scatter(y_test,y_test-test_set_pred1,alpha=.1,color = \"b\")"
   ]
  },
  {
   "cell_type": "code",
   "execution_count": 10,
   "metadata": {},
   "outputs": [
    {
     "data": {
      "text/plain": [
       "Lasso(alpha=10, copy_X=True, fit_intercept=True, max_iter=1000,\n",
       "   normalize=False, positive=False, precompute=False, random_state=None,\n",
       "   selection='cyclic', tol=0.0001, warm_start=False)"
      ]
     },
     "execution_count": 10,
     "metadata": {},
     "output_type": "execute_result"
    }
   ],
   "source": [
    "#Regularization: LASSO\n",
    "lr_model3 = Lasso(alpha = 10)\n",
    "selected_columns_1 = [\"f_to_s\",\"intera_r\",\"numberstudent\",\"Citation\",\"Salary\",\"GDP\",\"Endowment\",\"Teaching\",\"International Outlook\",\"Research\",\"\"]\n",
    "lr_model3.fit(X_train,y_train)"
   ]
  },
  {
   "cell_type": "code",
   "execution_count": 11,
   "metadata": {},
   "outputs": [
    {
     "name": "stdout",
     "output_type": "stream",
     "text": [
      "0.926628025365\n",
      "0.924849688907\n"
     ]
    }
   ],
   "source": [
    "print(lr_model3.score(X_train,y_train))\n",
    "print(lr_model3.score(X_test,y_test))"
   ]
  },
  {
   "cell_type": "code",
   "execution_count": 12,
   "metadata": {},
   "outputs": [
    {
     "data": {
      "text/plain": [
       "0.20309176209047369"
      ]
     },
     "execution_count": 12,
     "metadata": {},
     "output_type": "execute_result"
    }
   ],
   "source": [
    "#Cross-Validation to tune the parameter\n",
    "alphavec = 10**np.linspace(-3,9,27)\n",
    "lr_model4 = LassoCV(alphas = alphavec, cv=3)\n",
    "lr_model4.fit(X_train,y_train)\n",
    "lr_model4.alpha_"
   ]
  },
  {
   "cell_type": "code",
   "execution_count": 13,
   "metadata": {
    "collapsed": true
   },
   "outputs": [],
   "source": [
    "test_set_pred4 = lr_model4.predict(X_test)"
   ]
  },
  {
   "cell_type": "code",
   "execution_count": 14,
   "metadata": {},
   "outputs": [
    {
     "data": {
      "text/plain": [
       "<matplotlib.collections.PathCollection at 0x11c415518>"
      ]
     },
     "execution_count": 14,
     "metadata": {},
     "output_type": "execute_result"
    },
    {
     "data": {
      "image/png": "[encoded data removed]",
      "text/plain": [
       "<matplotlib.figure.Figure at 0x11c3e0c88>"
      ]
     },
     "metadata": {},
     "output_type": "display_data"
    }
   ],
   "source": [
    "plt.scatter(test_set_pred4,y_test,alpha=.1,color = \"b\")"
   ]
  },
  {
   "cell_type": "code",
   "execution_count": null,
   "metadata": {
    "collapsed": true
   },
   "outputs": [],
   "source": [
    "#Residuals\n",
    "plt.scatter(y_test,y_test-test_set_pred4,alpha=.1)"
   ]
  },
  {
   "cell_type": "code",
   "execution_count": 15,
   "metadata": {},
   "outputs": [
    {
     "name": "stdout",
     "output_type": "stream",
     "text": [
      "0.936768101453\n",
      "0.943075217369\n"
     ]
    }
   ],
   "source": [
    "print(lr_model4.score(X_train,y_train))\n",
    "print(lr_model4.score(X_test,y_test))"
   ]
  },
  {
   "cell_type": "code",
   "execution_count": 16,
   "metadata": {
    "collapsed": true
   },
   "outputs": [],
   "source": [
    "#Single Tree\n",
    "dtrmodel1 = tree.DecisionTreeRegressor(min_samples_split=8, max_depth=4, min_samples_leaf=3)"
   ]
  },
  {
   "cell_type": "code",
   "execution_count": 17,
   "metadata": {},
   "outputs": [
    {
     "data": {
      "text/plain": [
       "DecisionTreeRegressor(criterion='mse', max_depth=4, max_features=None,\n",
       "           max_leaf_nodes=None, min_impurity_split=1e-07,\n",
       "           min_samples_leaf=3, min_samples_split=8,\n",
       "           min_weight_fraction_leaf=0.0, presort=False, random_state=None,\n",
       "           splitter='best')"
      ]
     },
     "execution_count": 17,
     "metadata": {},
     "output_type": "execute_result"
    }
   ],
   "source": [
    "dtrmodel1.fit(X_train,y_train)"
   ]
  },
  {
   "cell_type": "code",
   "execution_count": 18,
   "metadata": {},
   "outputs": [
    {
     "data": {
      "text/plain": [
       "<matplotlib.collections.PathCollection at 0x11cd1be10>"
      ]
     },
     "execution_count": 18,
     "metadata": {},
     "output_type": "execute_result"
    },
    {
     "data": {
      "image/png": "[encoded data removed]",
      "text/plain": [
       "<matplotlib.figure.Figure at 0x11cdb59b0>"
      ]
     },
     "metadata": {},
     "output_type": "display_data"
    }
   ],
   "source": [
    "tree_pred_test1 = dtrmodel1.predict(X_test)\n",
    "plt.scatter(y_test, tree_pred_test1,alpha=.1)"
   ]
  },
  {
   "cell_type": "code",
   "execution_count": 19,
   "metadata": {},
   "outputs": [
    {
     "name": "stdout",
     "output_type": "stream",
     "text": [
      "0.961573591281\n",
      "0.898626704257\n"
     ]
    }
   ],
   "source": [
    "print(dtrmodel1.score(X_train,y_train))\n",
    "print(dtrmodel1.score(X_test,y_test))"
   ]
  },
  {
   "cell_type": "code",
   "execution_count": 20,
   "metadata": {},
   "outputs": [
    {
     "data": {
      "text/plain": [
       "RandomForestRegressor(bootstrap=True, criterion='mse', max_depth=None,\n",
       "           max_features=4, max_leaf_nodes=None, min_impurity_split=1e-07,\n",
       "           min_samples_leaf=3, min_samples_split=2,\n",
       "           min_weight_fraction_leaf=0.0, n_estimators=500, n_jobs=-1,\n",
       "           oob_score=False, random_state=None, verbose=0, warm_start=False)"
      ]
     },
     "execution_count": 20,
     "metadata": {},
     "output_type": "execute_result"
    }
   ],
   "source": [
    "#Forest\n",
    "rfmodel2 = RandomForestRegressor(n_estimators = 500, min_samples_leaf=3, max_features=4, n_jobs=-1)##?\n",
    "rfmodel2.fit(X_train,y_train)"
   ]
  },
  {
   "cell_type": "code",
   "execution_count": 21,
   "metadata": {},
   "outputs": [
    {
     "data": {
      "text/plain": [
       "<matplotlib.collections.PathCollection at 0x11cfc24e0>"
      ]
     },
     "execution_count": 21,
     "metadata": {},
     "output_type": "execute_result"
    },
    {
     "data": {
      "image/png": "[encoded data removed]",
      "text/plain": [
       "<matplotlib.figure.Figure at 0x11cee92b0>"
      ]
     },
     "metadata": {},
     "output_type": "display_data"
    }
   ],
   "source": [
    "rf1_test_pred2 = rfmodel2.predict(X_test)\n",
    "plt.scatter(y_test, rf1_test_pred2,alpha=.1)"
   ]
  },
  {
   "cell_type": "code",
   "execution_count": 22,
   "metadata": {},
   "outputs": [
    {
     "data": {
      "text/plain": [
       "[<matplotlib.lines.Line2D at 0x11cd46710>]"
      ]
     },
     "execution_count": 22,
     "metadata": {},
     "output_type": "execute_result"
    },
    {
     "data": {
      "image/png": "[encoded data removed]",
      "text/plain": [
       "<matplotlib.figure.Figure at 0x11d0a20f0>"
      ]
     },
     "metadata": {},
     "output_type": "display_data"
    }
   ],
   "source": [
    "#Remove the three high correlation variables\n",
    "#Regression Basic\n",
    "X3 =smaller_df.loc[:,[\"f_to_s\",\"intera_r\",\"numberstudent\",\"Citation\",\"Salary\",\"GDP\",\"Endowment\",\"Private\",\"Acceptance\",\"Diversity\"]]\n",
    "y3 =smaller_df[\"Overall\"]\n",
    "X_train_3, X_test_3, y_train_3, y_test_3 = train_test_split(X3, y3, test_size=0.3)\n",
    "rfmodel3 = RandomForestRegressor(n_estimators = 500, min_samples_leaf=3, max_features=4, n_jobs=-1)\n",
    "rfmodel3.fit(X_train_3,y_train_3)\n",
    "rf1_test_pred3 = rfmodel3.predict(X_test_3)\n",
    "plt.scatter(y_test_3, rf1_test_pred3,alpha=.1,color = \"b\")\n",
    "plt.plot(np.linspace(0,90,20),np.linspace(0,90,20))"
   ]
  },
  {
   "cell_type": "code",
   "execution_count": 23,
   "metadata": {},
   "outputs": [
    {
     "name": "stdout",
     "output_type": "stream",
     "text": [
      "0.923869536038\n",
      "0.76096136299\n"
     ]
    }
   ],
   "source": [
    "print(rfmodel3.score(X_train_3,y_train_3))\n",
    "print(rfmodel3.score(X_test_3,y_test_3))"
   ]
  },
  {
   "cell_type": "code",
   "execution_count": 24,
   "metadata": {},
   "outputs": [
    {
     "data": {
      "text/plain": [
       "0.20309176209047369"
      ]
     },
     "execution_count": 24,
     "metadata": {},
     "output_type": "execute_result"
    }
   ],
   "source": [
    "#Lasso:\n",
    "alphavec = 10**np.linspace(-3,9,27)\n",
    "lr_model5 = LassoCV(alphas = alphavec, cv=3)\n",
    "lr_model5.fit(X_train_3,y_train_3)\n",
    "lr_model5.alpha_"
   ]
  },
  {
   "cell_type": "code",
   "execution_count": 25,
   "metadata": {},
   "outputs": [
    {
     "name": "stdout",
     "output_type": "stream",
     "text": [
      "0.786070359815\n",
      "0.711534020975\n"
     ]
    }
   ],
   "source": [
    "test_set_pred5 = lr_model5.predict(X_test_3)\n",
    "print(lr_model5.score(X_train_3,y_train_3))\n",
    "print(lr_model5.score(X_test_3,y_test_3))"
   ]
  },
  {
   "cell_type": "code",
   "execution_count": 26,
   "metadata": {},
   "outputs": [
    {
     "data": {
      "text/plain": [
       "RandomForestRegressor(bootstrap=True, criterion='mse', max_depth=None,\n",
       "           max_features=4, max_leaf_nodes=None, min_impurity_split=1e-07,\n",
       "           min_samples_leaf=3, min_samples_split=2,\n",
       "           min_weight_fraction_leaf=0.0, n_estimators=500, n_jobs=-1,\n",
       "           oob_score=False, random_state=None, verbose=0, warm_start=False)"
      ]
     },
     "execution_count": 26,
     "metadata": {},
     "output_type": "execute_result"
    }
   ],
   "source": [
    "#Forest\n",
    "rfmodel4 = RandomForestRegressor(n_estimators = 500, min_samples_leaf=3, max_features=4, n_jobs=-1)\n",
    "rfmodel4.fit(X_train_3,y_train_3)"
   ]
  },
  {
   "cell_type": "code",
   "execution_count": 27,
   "metadata": {},
   "outputs": [
    {
     "data": {
      "text/plain": [
       "<matplotlib.collections.PathCollection at 0x11d2af470>"
      ]
     },
     "execution_count": 27,
     "metadata": {},
     "output_type": "execute_result"
    },
    {
     "data": {
      "image/png": "[encoded data removed]",
      "text/plain": [
       "<matplotlib.figure.Figure at 0x11cd32978>"
      ]
     },
     "metadata": {},
     "output_type": "display_data"
    }
   ],
   "source": [
    "rf1_test_pred4 = rfmodel4.predict(X_test_3)\n",
    "plt.scatter(y_test_3, rf1_test_pred4,alpha=.1)"
   ]
  },
  {
   "cell_type": "code",
   "execution_count": 28,
   "metadata": {},
   "outputs": [
    {
     "name": "stdout",
     "output_type": "stream",
     "text": [
      "0.923849382762\n",
      "0.759541679734\n"
     ]
    }
   ],
   "source": [
    "print(rfmodel4.score(X_train_3,y_train_3))\n",
    "print(rfmodel4.score(X_test_3,y_test_3))"
   ]
  },
  {
   "cell_type": "code",
   "execution_count": 29,
   "metadata": {},
   "outputs": [
    {
     "data": {
      "text/plain": [
       "[('f_to_s', 0.071225186890262804),\n",
       " ('intera_r', 0.071482209556356674),\n",
       " ('numberstudent', 0.14081539614737951),\n",
       " ('Citation', 0.21620541586401981),\n",
       " ('Salary', 0.13301658109319711),\n",
       " ('GDP', 0.139523867694899),\n",
       " ('Endowment', 0.0772389431819651),\n",
       " ('Private', 0.0053188210699769258),\n",
       " ('Acceptance', 0.091166524572715041),\n",
       " ('Diversity', 0.054007053929227687)]"
      ]
     },
     "execution_count": 29,
     "metadata": {},
     "output_type": "execute_result"
    }
   ],
   "source": [
    "#Gradient boosting\n",
    "from sklearn.ensemble import GradientBoostingRegressor\n",
    "gbmodel5 = GradientBoostingRegressor(n_estimators=2000, learning_rate=0.005, max_depth=3, subsample=.2)\n",
    "gbmodel5.fit(X_train_3, y_train_3)\n",
    "y_pred_gb1 = gbmodel5.predict(X_test_3)\n",
    "np.sqrt(np.mean((y_pred_gb1 - y_test_3)**2))\n",
    "list(zip(X_train_3.columns, gbmodel5.feature_importances_))"
   ]
  },
  {
   "cell_type": "code",
   "execution_count": 30,
   "metadata": {},
   "outputs": [
    {
     "name": "stdout",
     "output_type": "stream",
     "text": [
      "0.976789259122\n",
      "0.785176214921\n"
     ]
    }
   ],
   "source": [
    "print(gbmodel5.score(X_train_3, y_train_3))\n",
    "print(gbmodel5.score(X_test_3,y_test_3))"
   ]
  },
  {
   "cell_type": "code",
   "execution_count": 31,
   "metadata": {},
   "outputs": [
    {
     "data": {
      "text/plain": [
       "<matplotlib.collections.PathCollection at 0x11d457ac8>"
      ]
     },
     "execution_count": 31,
     "metadata": {},
     "output_type": "execute_result"
    },
    {
     "data": {
      "image/png": "[encoded data removed]",
      "text/plain": [
       "<matplotlib.figure.Figure at 0x11d2d2a20>"
      ]
     },
     "metadata": {},
     "output_type": "display_data"
    }
   ],
   "source": [
    "plt.scatter(y_pred_gb1,y_test_3,alpha=.1,color = \"b\")"
   ]
  },
  {
   "cell_type": "code",
   "execution_count": null,
   "metadata": {
    "collapsed": true
   },
   "outputs": [],
   "source": []
  }
 ],
 "metadata": {
  "kernelspec": {
   "display_name": "Python 3",
   "language": "python",
   "name": "python3"
  },
  "language_info": {
   "codemirror_mode": {
    "name": "ipython",
    "version": 3
   },
   "file_extension": ".py",
   "mimetype": "text/x-python",
   "name": "python",
   "nbconvert_exporter": "python",
   "pygments_lexer": "ipython3",
   "version": "3.6.1"
  }
 },
 "nbformat": 4,
 "nbformat_minor": 2
}
