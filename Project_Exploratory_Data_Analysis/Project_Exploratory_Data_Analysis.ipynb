{
 "cells": [
  {
   "cell_type": "markdown",
   "metadata": {},
   "source": [
    "Goals:\n",
    "1. Retrieving data from MTA website.\n",
    "2. Preprocessing the data.\n",
    "3. Finding the pattern of the foot traffic for the subway stations.\n",
    "4. Comparing foot traffic among the subway stations."
   ]
  },
  {
   "cell_type": "code",
   "execution_count": 7,
   "metadata": {
    "collapsed": true
   },
   "outputs": [],
   "source": [
    "import pandas as pd\n",
    "import numpy as np\n",
    "import matplotlib.pyplot as plt\n",
    "import dateutil.parser\n",
    "%matplotlib inline\n",
    "from IPython.display import Image"
   ]
  },
  {
   "cell_type": "code",
   "execution_count": 3,
   "metadata": {
    "collapsed": true
   },
   "outputs": [],
   "source": [
    "#import data of August(7/29/2017 to 8/25/2017) from mta website\n",
    "def get_data(week_nums):\n",
    "    url = \"http://web.mta.info/developers/data/nyct/turnstile/turnstile_{}.txt\"\n",
    "    dfs = []\n",
    "    for week_num in week_nums:\n",
    "        file_url = url.format(week_num)\n",
    "        dfs.append(pd.read_csv(file_url))\n",
    "    return pd.concat(dfs)\n",
    "week_nums = [170805,170812,170819,170826]\n",
    "turnstiles_df = get_data(week_nums)"
   ]
  },
  {
   "cell_type": "code",
   "execution_count": 4,
   "metadata": {},
   "outputs": [
    {
     "data": {
      "text/html": [
       "<div>\n",
       "<style>\n",
       "    .dataframe thead tr:only-child th {\n",
       "        text-align: right;\n",
       "    }\n",
       "\n",
       "    .dataframe thead th {\n",
       "        text-align: left;\n",
       "    }\n",
       "\n",
       "    .dataframe tbody tr th {\n",
       "        vertical-align: top;\n",
       "    }\n",
       "</style>\n",
       "<table border=\"1\" class=\"dataframe\">\n",
       "  <thead>\n",
       "    <tr style=\"text-align: right;\">\n",
       "      <th></th>\n",
       "      <th>C/A</th>\n",
       "      <th>UNIT</th>\n",
       "      <th>SCP</th>\n",
       "      <th>STATION</th>\n",
       "      <th>LINENAME</th>\n",
       "      <th>DIVISION</th>\n",
       "      <th>DATE</th>\n",
       "      <th>TIME</th>\n",
       "      <th>DESC</th>\n",
       "      <th>ENTRIES</th>\n",
       "      <th>EXITS</th>\n",
       "    </tr>\n",
       "  </thead>\n",
       "  <tbody>\n",
       "    <tr>\n",
       "      <th>0</th>\n",
       "      <td>A002</td>\n",
       "      <td>R051</td>\n",
       "      <td>02-00-00</td>\n",
       "      <td>59 ST</td>\n",
       "      <td>NQR456W</td>\n",
       "      <td>BMT</td>\n",
       "      <td>07/29/2017</td>\n",
       "      <td>00:00:00</td>\n",
       "      <td>REGULAR</td>\n",
       "      <td>6271126</td>\n",
       "      <td>2124514</td>\n",
       "    </tr>\n",
       "    <tr>\n",
       "      <th>1</th>\n",
       "      <td>A002</td>\n",
       "      <td>R051</td>\n",
       "      <td>02-00-00</td>\n",
       "      <td>59 ST</td>\n",
       "      <td>NQR456W</td>\n",
       "      <td>BMT</td>\n",
       "      <td>07/29/2017</td>\n",
       "      <td>04:00:00</td>\n",
       "      <td>REGULAR</td>\n",
       "      <td>6271152</td>\n",
       "      <td>2124520</td>\n",
       "    </tr>\n",
       "    <tr>\n",
       "      <th>2</th>\n",
       "      <td>A002</td>\n",
       "      <td>R051</td>\n",
       "      <td>02-00-00</td>\n",
       "      <td>59 ST</td>\n",
       "      <td>NQR456W</td>\n",
       "      <td>BMT</td>\n",
       "      <td>07/29/2017</td>\n",
       "      <td>08:00:00</td>\n",
       "      <td>REGULAR</td>\n",
       "      <td>6271168</td>\n",
       "      <td>2124549</td>\n",
       "    </tr>\n",
       "    <tr>\n",
       "      <th>3</th>\n",
       "      <td>A002</td>\n",
       "      <td>R051</td>\n",
       "      <td>02-00-00</td>\n",
       "      <td>59 ST</td>\n",
       "      <td>NQR456W</td>\n",
       "      <td>BMT</td>\n",
       "      <td>07/29/2017</td>\n",
       "      <td>12:00:00</td>\n",
       "      <td>REGULAR</td>\n",
       "      <td>6271254</td>\n",
       "      <td>2124604</td>\n",
       "    </tr>\n",
       "    <tr>\n",
       "      <th>4</th>\n",
       "      <td>A002</td>\n",
       "      <td>R051</td>\n",
       "      <td>02-00-00</td>\n",
       "      <td>59 ST</td>\n",
       "      <td>NQR456W</td>\n",
       "      <td>BMT</td>\n",
       "      <td>07/29/2017</td>\n",
       "      <td>16:00:00</td>\n",
       "      <td>REGULAR</td>\n",
       "      <td>6271482</td>\n",
       "      <td>2124653</td>\n",
       "    </tr>\n",
       "  </tbody>\n",
       "</table>\n",
       "</div>"
      ],
      "text/plain": [
       "    C/A  UNIT       SCP STATION LINENAME DIVISION        DATE      TIME  \\\n",
       "0  A002  R051  02-00-00   59 ST  NQR456W      BMT  07/29/2017  00:00:00   \n",
       "1  A002  R051  02-00-00   59 ST  NQR456W      BMT  07/29/2017  04:00:00   \n",
       "2  A002  R051  02-00-00   59 ST  NQR456W      BMT  07/29/2017  08:00:00   \n",
       "3  A002  R051  02-00-00   59 ST  NQR456W      BMT  07/29/2017  12:00:00   \n",
       "4  A002  R051  02-00-00   59 ST  NQR456W      BMT  07/29/2017  16:00:00   \n",
       "\n",
       "      DESC  ENTRIES  \\\n",
       "0  REGULAR  6271126   \n",
       "1  REGULAR  6271152   \n",
       "2  REGULAR  6271168   \n",
       "3  REGULAR  6271254   \n",
       "4  REGULAR  6271482   \n",
       "\n",
       "   EXITS                                                                 \n",
       "0                                            2124514                     \n",
       "1                                            2124520                     \n",
       "2                                            2124549                     \n",
       "3                                            2124604                     \n",
       "4                                            2124653                     "
      ]
     },
     "execution_count": 4,
     "metadata": {},
     "output_type": "execute_result"
    }
   ],
   "source": [
    "turnstiles_df.head()"
   ]
  },
  {
   "cell_type": "code",
   "execution_count": 8,
   "metadata": {
    "collapsed": true
   },
   "outputs": [],
   "source": [
    "#extract partial data\n",
    "turnstiles_df.columns = ['C/A', 'UNIT', 'SCP', 'STATION', 'LINENAME', 'DIVISION', 'DATE', 'TIME',\n",
    "       'DESC', 'ENTRIES','EXITS']\n",
    "turnstiles_df.drop_duplicates(subset=[\"C/A\", \"UNIT\", \"SCP\", \"STATION\", \"DATE\",\"TIME\"], inplace=True)\n",
    "sample_df = turnstiles_df.iloc[:20000]\n",
    "sample_df.is_copy = None"
   ]
  },
  {
   "cell_type": "markdown",
   "metadata": {},
   "source": [
    "1. The Foot traffic of each station for every 4 hours."
   ]
  },
  {
   "cell_type": "code",
   "execution_count": 17,
   "metadata": {},
   "outputs": [
    {
     "data": {
      "text/plain": [
       "[(('A002', 'R051', '02-00-00', '59 ST'),\n",
       "  [['NQR456W', 'BMT', '07/29/2017', '00:00:00', 'REGULAR', 6271126, 2124514],\n",
       "   ['NQR456W', 'BMT', '07/29/2017', '04:00:00', 'REGULAR', 6271152, 2124520],\n",
       "   ['NQR456W', 'BMT', '07/29/2017', '08:00:00', 'REGULAR', 6271168, 2124549],\n",
       "   ['NQR456W', 'BMT', '07/29/2017', '12:00:00', 'REGULAR', 6271254, 2124604],\n",
       "   ['NQR456W', 'BMT', '07/29/2017', '16:00:00', 'REGULAR', 6271482, 2124653],\n",
       "   ['NQR456W', 'BMT', '07/29/2017', '20:00:00', 'REGULAR', 6271724, 2124686],\n",
       "   ['NQR456W', 'BMT', '07/30/2017', '00:00:00', 'REGULAR', 6271846, 2124707],\n",
       "   ['NQR456W', 'BMT', '07/30/2017', '04:00:00', 'REGULAR', 6271861, 2124708],\n",
       "   ['NQR456W', 'BMT', '07/30/2017', '08:00:00', 'REGULAR', 6271871, 2124722],\n",
       "   ['NQR456W', 'BMT', '07/30/2017', '12:00:00', 'REGULAR', 6271937, 2124775],\n",
       "   ['NQR456W', 'BMT', '07/30/2017', '16:00:00', 'REGULAR', 6272086, 2124827],\n",
       "   ['NQR456W', 'BMT', '07/30/2017', '20:00:00', 'REGULAR', 6272267, 2124868],\n",
       "   ['NQR456W', 'BMT', '07/31/2017', '00:00:00', 'REGULAR', 6272356, 2124890],\n",
       "   ['NQR456W', 'BMT', '07/31/2017', '04:00:00', 'REGULAR', 6272371, 2124894],\n",
       "   ['NQR456W', 'BMT', '07/31/2017', '08:00:00', 'REGULAR', 6272395, 2125003],\n",
       "   ['NQR456W', 'BMT', '07/31/2017', '12:00:00', 'REGULAR', 6272576, 2125269],\n",
       "   ['NQR456W', 'BMT', '07/31/2017', '16:00:00', 'REGULAR', 6272865, 2125333],\n",
       "   ['NQR456W', 'BMT', '07/31/2017', '20:00:00', 'REGULAR', 6273623, 2125396],\n",
       "   ['NQR456W', 'BMT', '08/01/2017', '00:00:00', 'REGULAR', 6273793, 2125421],\n",
       "   ['NQR456W', 'BMT', '08/01/2017', '04:00:00', 'REGULAR', 6273806, 2125422],\n",
       "   ['NQR456W', 'BMT', '08/01/2017', '08:00:00', 'REGULAR', 6273848, 2125522],\n",
       "   ['NQR456W', 'BMT', '08/01/2017', '12:00:00', 'REGULAR', 6274008, 2125779],\n",
       "   ['NQR456W', 'BMT', '08/01/2017', '16:00:00', 'REGULAR', 6274328, 2125860],\n",
       "   ['NQR456W', 'BMT', '08/01/2017', '20:00:00', 'REGULAR', 6275094, 2125925],\n",
       "   ['NQR456W', 'BMT', '08/02/2017', '00:00:00', 'REGULAR', 6275294, 2125952],\n",
       "   ['NQR456W', 'BMT', '08/02/2017', '04:00:00', 'REGULAR', 6275304, 2125955],\n",
       "   ['NQR456W', 'BMT', '08/02/2017', '08:00:00', 'REGULAR', 6275331, 2126055],\n",
       "   ['NQR456W', 'BMT', '08/02/2017', '12:00:00', 'REGULAR', 6275472, 2126309],\n",
       "   ['NQR456W', 'BMT', '08/02/2017', '16:00:00', 'REGULAR', 6275761, 2126365],\n",
       "   ['NQR456W', 'BMT', '08/02/2017', '20:00:00', 'REGULAR', 6276480, 2126443],\n",
       "   ['NQR456W', 'BMT', '08/03/2017', '00:00:00', 'REGULAR', 6276693, 2126471],\n",
       "   ['NQR456W', 'BMT', '08/03/2017', '04:00:00', 'REGULAR', 6276707, 2126475],\n",
       "   ['NQR456W', 'BMT', '08/03/2017', '08:00:00', 'REGULAR', 6276737, 2126584],\n",
       "   ['NQR456W', 'BMT', '08/03/2017', '12:00:00', 'REGULAR', 6276862, 2126859],\n",
       "   ['NQR456W', 'BMT', '08/03/2017', '16:00:00', 'REGULAR', 6277157, 2126922],\n",
       "   ['NQR456W', 'BMT', '08/03/2017', '20:00:00', 'REGULAR', 6277865, 2126991],\n",
       "   ['NQR456W', 'BMT', '08/04/2017', '00:00:00', 'REGULAR', 6278085, 2127012],\n",
       "   ['NQR456W', 'BMT', '08/04/2017', '04:00:00', 'REGULAR', 6278107, 2127016],\n",
       "   ['NQR456W', 'BMT', '08/04/2017', '08:00:00', 'REGULAR', 6278140, 2127075],\n",
       "   ['NQR456W', 'BMT', '08/04/2017', '12:00:00', 'REGULAR', 6278280, 2127265],\n",
       "   ['NQR456W', 'BMT', '08/04/2017', '16:00:00', 'REGULAR', 6278585, 2127330],\n",
       "   ['NQR456W', 'BMT', '08/04/2017', '20:00:00', 'REGULAR', 6279235, 2127397]])]"
      ]
     },
     "execution_count": 17,
     "metadata": {},
     "output_type": "execute_result"
    }
   ],
   "source": [
    "dictionary = {}\n",
    "for name,group in sample_df.groupby([\"C/A\",\"UNIT\",\"SCP\",\"STATION\"]):\n",
    "    key = (name)\n",
    "    value_list = []\n",
    "    group.apply(lambda x:value_list.append([x.LINENAME, x.DIVISION,x.DATE,x.TIME,x.DESC,x.ENTRIES,x.EXITS]),axis = 1)\n",
    "    dictionary[key] = value_list\n",
    "#Partial View of the dictionary\n",
    "list(dictionary.items())[0:1]"
   ]
  },
  {
   "cell_type": "markdown",
   "metadata": {},
   "source": [
    "2.Daily foot traffic of each turnstile."
   ]
  },
  {
   "cell_type": "code",
   "execution_count": 36,
   "metadata": {},
   "outputs": [
    {
     "data": {
      "text/plain": [
       "[(('A002', 'R051', '02-00-00', '59 ST'),\n",
       "  [[datetime.datetime(2017, 7, 29, 0, 0), 556.0],\n",
       "   [datetime.datetime(2017, 7, 30, 0, 0), 543.0],\n",
       "   [datetime.datetime(2017, 7, 31, 0, 0), 1356.0],\n",
       "   [datetime.datetime(2017, 8, 1, 0, 0), 1471.0],\n",
       "   [datetime.datetime(2017, 8, 2, 0, 0), 1386.0],\n",
       "   [datetime.datetime(2017, 8, 3, 0, 0), 1385.0],\n",
       "   [datetime.datetime(2017, 8, 4, 0, 0), 1370.0]])]"
      ]
     },
     "execution_count": 36,
     "metadata": {},
     "output_type": "execute_result"
    }
   ],
   "source": [
    "sample_df[[\"PREV_DATE\",\"PREV_ENTRIES\"]] = (sample_df.groupby([\"C/A\",\"UNIT\",\"SCP\",\"STATION\"])[\"DATE\",\"ENTRIES\"].\n",
    "                                           transform(lambda grp:grp.shift(1)))                                  \n",
    "sample_df.dropna(subset=[\"PREV_DATE\"], axis=0, inplace=True)\n",
    "sample_df[\"Hourly_ENTRIES\"] = abs(sample_df[\"ENTRIES\"]-sample_df[\"PREV_ENTRIES\"])\n",
    "sample_df2 = sample_df.groupby([\"C/A\",\"UNIT\",\"SCP\",\"STATION\",\"DATE\"]).Hourly_ENTRIES.sum()\n",
    "sample_df2 = sample_df2.reset_index().rename(columns = {\"Hourly_ENTRIES\":\"Daily_ENTRIES\"})\n",
    "dictionary3 ={}\n",
    "for name,group in sample_df2.groupby([\"C/A\",\"UNIT\",\"SCP\",\"STATION\"]):\n",
    "    key = (name)\n",
    "    value_list = []\n",
    "    group.apply(lambda x:value_list.append([time_parser(x.DATE),x.Daily_ENTRIES]),axis = 1)\n",
    "    dictionary3[key] = value_list\n",
    "#Partial View of the dictionary\n",
    "list(dictionary3.items())[0:1]"
   ]
  },
  {
   "cell_type": "markdown",
   "metadata": {},
   "source": [
    "3.Daily foot traffic of a turnstile for a typica week"
   ]
  },
  {
   "cell_type": "code",
   "execution_count": 37,
   "metadata": {},
   "outputs": [
    {
     "data": {
      "text/plain": [
       "([<matplotlib.axis.XTick at 0x10ec68e48>,\n",
       "  <matplotlib.axis.XTick at 0x122435358>,\n",
       "  <matplotlib.axis.XTick at 0x11037ec50>,\n",
       "  <matplotlib.axis.XTick at 0x11558c5f8>,\n",
       "  <matplotlib.axis.XTick at 0x110737978>,\n",
       "  <matplotlib.axis.XTick at 0x10daf3710>,\n",
       "  <matplotlib.axis.XTick at 0x110aab630>],\n",
       " <a list of 7 Text xticklabel objects>)"
      ]
     },
     "execution_count": 37,
     "metadata": {},
     "output_type": "execute_result"
    },
    {
     "data": {
      "image/png": "[encoded data removed]",
      "text/plain": [
       "<matplotlib.figure.Figure at 0x115585c88>"
      ]
     },
     "metadata": {},
     "output_type": "display_data"
    }
   ],
   "source": [
    "dates = [pd.to_datetime(x) for x in sample_df2.iloc[0:7].DATE.values]\n",
    "counts = sample_df2[\"Daily_ENTRIES\"][0:7].values\n",
    "plt.figure(figsize=(10,3))\n",
    "plt.plot(dates,counts)\n",
    "labels = [\"Saturday\",\"Sunday\",'Monday', 'Tuesday', 'Wednesday', 'Thursday', 'Friday']\n",
    "plt.xticks(dates, labels, rotation='vertical')"
   ]
  },
  {
   "cell_type": "markdown",
   "metadata": {},
   "source": [
    "4.Daily Foot traffic info of each stations by adding the foot traffic of all turnstiles"
   ]
  },
  {
   "cell_type": "markdown",
   "metadata": {
    "collapsed": true
   },
   "source": [
    "#Daily Foot traffic info of each stations by adding the foot traffic of all turnstiles\n",
    "sample_df3 = sample_df3.rename(columns = {\"C/A\":\"C_A\"})\n",
    "sample_df4 = sample_df3.groupby([\"STATION\",\"DATE\"]).Daily_ENTRIES_STATION.sum().reset_index()\n",
    "dictionary5 = {}\n",
    "for name,group in sample_df4.groupby(\"STATION\"):\n",
    "    key = (name)\n",
    "    value_list = []\n",
    "    group.apply(lambda x:value_list.append([time_parser(x.DATE),x.Daily_ENTRIES_STATION]),axis = 1)\n",
    "    dictionary5[key] = value_list\n",
    "#Partial View of the dictionary\n",
    "list(dictionary5.items())[0:1]"
   ]
  },
  {
   "cell_type": "markdown",
   "metadata": {},
   "source": [
    "5.Daily foot traffic of a station for a typica week"
   ]
  },
  {
   "cell_type": "code",
   "execution_count": 10,
   "metadata": {
    "collapsed": true
   },
   "outputs": [],
   "source": [
    "Dict_5_val= [x[1] for x in dictionary5[\"23 ST\"]]\n",
    "dictionary5[\"14 ST-UNION SQ\"][1][0].strftime(\"%Y-%m-%d\")\n",
    "Dict_5_datetime = [x[0].strftime(\"%Y-%m-%d\") for x in dictionary5[\"23 ST\"]]"
   ]
  },
  {
   "cell_type": "code",
   "execution_count": 11,
   "metadata": {},
   "outputs": [
    {
     "data": {
      "text/plain": [
       "<matplotlib.text.Text at 0x116ea3780>"
      ]
     },
     "execution_count": 11,
     "metadata": {},
     "output_type": "execute_result"
    },
    {
     "data": {
      "image/png": "[encoded data removed]",
      "text/plain": [
       "<matplotlib.figure.Figure at 0x1168c4cf8>"
      ]
     },
     "metadata": {},
     "output_type": "display_data"
    }
   ],
   "source": [
    "plt.figure(figsize=(10,3))\n",
    "x_list = range(7)\n",
    "plt.plot(x_list,Dict_5_val,label = \"23 ST\")\n",
    "plt.xticks(x_list, Dict_5_datetime)\n",
    "plt.legend()\n",
    "plt.title(\"Ridership Count of 23 ST Station\")"
   ]
  },
  {
   "cell_type": "markdown",
   "metadata": {},
   "source": [
    "6.Comparing weekly foot traffic for a typical station."
   ]
  },
  {
   "cell_type": "code",
   "execution_count": 29,
   "metadata": {
    "collapsed": true
   },
   "outputs": [],
   "source": [
    "turnstiles_df_1 = turnstiles_df\n",
    "turnstiles_df_1[[\"PREV_DATE\",\"PREV_ENTRIES\"]] = (turnstiles_df_1.groupby([\"C/A\",\"UNIT\",\"SCP\",\"STATION\"])[\"DATE\",\"ENTRIES\"].\n",
    "                                           transform(lambda grp:grp.shift(1)))                                  \n",
    "turnstiles_df_1.dropna(subset=[\"PREV_DATE\"], axis=0, inplace=True)\n",
    "turnstiles_df_1[\"Hourly_ENTRIES\"] = abs(turnstiles_df_1[\"ENTRIES\"]-turnstiles_df_1[\"PREV_ENTRIES\"])\n",
    "turnstiles_df_1 = turnstiles_df_1.groupby([\"C/A\",\"UNIT\",\"SCP\",\"STATION\",\"DATE\"]).Hourly_ENTRIES.sum()\n",
    "turnstiles_df_1 = turnstiles_df_1.reset_index().rename(columns = {\"Hourly_ENTRIES\":\"Daily_ENTRIES\"})"
   ]
  },
  {
   "cell_type": "code",
   "execution_count": 30,
   "metadata": {
    "collapsed": true
   },
   "outputs": [],
   "source": [
    "turnstiles_df_2 = turnstiles_df_1.groupby([\"STATION\",\"DATE\"]).Daily_ENTRIES.sum().reset_index()\n",
    "turnstiles_df_2[\"d_of_week\"] = turnstiles_df_2.apply(lambda x:time_parser(x.DATE).weekday(),axis = 1)\n",
    "sample_2 = turnstiles_df_2[turnstiles_df_2[\"STATION\"] == \"1 AV\"]\n",
    "sample_2.is_copy = False"
   ]
  },
  {
   "cell_type": "code",
   "execution_count": 31,
   "metadata": {},
   "outputs": [
    {
     "data": {
      "text/plain": [
       "([<matplotlib.axis.XTick at 0x10de4cda0>,\n",
       "  <matplotlib.axis.XTick at 0x10db67b00>,\n",
       "  <matplotlib.axis.XTick at 0x1102b7f98>,\n",
       "  <matplotlib.axis.XTick at 0x115ed1be0>,\n",
       "  <matplotlib.axis.XTick at 0x115ec2588>,\n",
       "  <matplotlib.axis.XTick at 0x115ec2f60>,\n",
       "  <matplotlib.axis.XTick at 0x115ea1978>],\n",
       " <a list of 7 Text xticklabel objects>)"
      ]
     },
     "execution_count": 31,
     "metadata": {},
     "output_type": "execute_result"
    },
    {
     "data": {
      "image/png": "[encoded data removed]",
      "text/plain": [
       "<matplotlib.figure.Figure at 0x10db5a1d0>"
      ]
     },
     "metadata": {},
     "output_type": "display_data"
    }
   ],
   "source": [
    "import itertools\n",
    "temp_list = [[x]*7 for x in range(4)]\n",
    "sample_2[\"index_c\"] = list(itertools.chain.from_iterable(temp_list))\n",
    "count = 1\n",
    "for name, group in sample_2.groupby(\"index_c\"):\n",
    "    value_list = []\n",
    "    group.apply(lambda x:value_list.append(x.Daily_ENTRIES),axis=1)\n",
    "    plt.plot(range(7),value_list)\n",
    "    plt.legend([\"Week %d\"%(count)])\n",
    "    \n",
    "plt.title(\"Ridership Count of 1 AV Station of Four Weeks\")\n",
    "plt.legend([\"week 1\",\"week 2\",\"week 3\",\"week 4\"])\n",
    "labels = ([\"Saturday\",\"Sunday\",'Monday', 'Tuesday', 'Wednesday', 'Thursday', 'Friday'])\n",
    "plt.xticks(range(7), labels)"
   ]
  },
  {
   "cell_type": "markdown",
   "metadata": {},
   "source": [
    "7.Finding the station with the most riderships for over a month."
   ]
  },
  {
   "cell_type": "code",
   "execution_count": 33,
   "metadata": {},
   "outputs": [
    {
     "data": {
      "text/html": [
       "<div>\n",
       "<style>\n",
       "    .dataframe thead tr:only-child th {\n",
       "        text-align: right;\n",
       "    }\n",
       "\n",
       "    .dataframe thead th {\n",
       "        text-align: left;\n",
       "    }\n",
       "\n",
       "    .dataframe tbody tr th {\n",
       "        vertical-align: top;\n",
       "    }\n",
       "</style>\n",
       "<table border=\"1\" class=\"dataframe\">\n",
       "  <thead>\n",
       "    <tr style=\"text-align: right;\">\n",
       "      <th></th>\n",
       "      <th>Daily_ENTRIES</th>\n",
       "    </tr>\n",
       "    <tr>\n",
       "      <th>STATION</th>\n",
       "      <th></th>\n",
       "    </tr>\n",
       "  </thead>\n",
       "  <tbody>\n",
       "    <tr>\n",
       "      <th>WALL ST</th>\n",
       "      <td>4.158050e+09</td>\n",
       "    </tr>\n",
       "    <tr>\n",
       "      <th>125 ST</th>\n",
       "      <td>2.254531e+09</td>\n",
       "    </tr>\n",
       "    <tr>\n",
       "      <th>LEXINGTON AV/63</th>\n",
       "      <td>2.147513e+09</td>\n",
       "    </tr>\n",
       "    <tr>\n",
       "      <th>DEKALB AV</th>\n",
       "      <td>1.408072e+09</td>\n",
       "    </tr>\n",
       "    <tr>\n",
       "      <th>34 ST-PENN STA</th>\n",
       "      <td>1.215090e+09</td>\n",
       "    </tr>\n",
       "  </tbody>\n",
       "</table>\n",
       "</div>"
      ],
      "text/plain": [
       "                 Daily_ENTRIES\n",
       "STATION                       \n",
       "WALL ST           4.158050e+09\n",
       "125 ST            2.254531e+09\n",
       "LEXINGTON AV/63   2.147513e+09\n",
       "DEKALB AV         1.408072e+09\n",
       "34 ST-PENN STA    1.215090e+09"
      ]
     },
     "execution_count": 33,
     "metadata": {},
     "output_type": "execute_result"
    }
   ],
   "source": [
    "turnstiles_df_2[\"formatted_datetime\"] = pd.to_datetime(turnstiles_df_2[\"DATE\"],format = \"%m/%d/%Y\")\n",
    "turnstiles_df_2[\"WEEK_NUMBER\"]=turnstiles_df_2[\"formatted_datetime\"].dt.week-29\n",
    "turnstiles_df_4 = turnstiles_df_2.groupby([\"WEEK_NUMBER\",\"STATION\"]).agg({\"Daily_ENTRIES\":sum})\n",
    "turnstiles_df_4 = turnstiles_df_4[\"Daily_ENTRIES\"].groupby(level=0,\n",
    "                                                           group_keys = False).apply(lambda x:\n",
    "                                                                    x.sort_values(ascending=False)).reset_index()\n",
    "turnstiles_df_4[\"WEEK_NUMBER\"].replace(1,\"07/29/2017-07/30/2017\",inplace = True)\n",
    "turnstiles_df_4[\"WEEK_NUMBER\"].replace(2,\"07/31/2017-08/06/2017\",inplace = True)\n",
    "turnstiles_df_4[\"WEEK_NUMBER\"].replace(3,\"07/31/2017-08/06/2017\",inplace = True)\n",
    "turnstiles_df_4[\"WEEK_NUMBER\"].replace(4,\"08/14/2017-08/20/2017\",inplace = True)\n",
    "turnstiles_df_4[\"WEEK_NUMBER\"].replace(5,\"08/21/2017-08/25/2017\",inplace = True)\n",
    "dictionary7 = {}\n",
    "for name,group in turnstiles_df_4.groupby(\"WEEK_NUMBER\"):\n",
    "    key = (name)\n",
    "    value_list = []\n",
    "    group.apply(lambda x:value_list.append([x.STATION,x.Daily_ENTRIES]),axis = 1)\n",
    "    dictionary7[key] = value_list\n",
    "dictionary7 #final answer\n",
    "\n",
    "#Find the station with most people over 5 weeks.\n",
    "turnstiles_df_5 = turnstiles_df_2.groupby([\"STATION\"]).agg({\"Daily_ENTRIES\":sum})\n",
    "turnstiles_df_5.sort_values(\"Daily_ENTRIES\",ascending=False).head()#final answer"
   ]
  },
  {
   "cell_type": "code",
   "execution_count": 34,
   "metadata": {},
   "outputs": [
    {
     "data": {
      "text/plain": [
       "<matplotlib.text.Text at 0x121e31ef0>"
      ]
     },
     "execution_count": 34,
     "metadata": {},
     "output_type": "execute_result"
    },
    {
     "data": {
      "image/png": "[encoded data removed]",
      "text/plain": [
       "<matplotlib.figure.Figure at 0x10eaccdd8>"
      ]
     },
     "metadata": {},
     "output_type": "display_data"
    }
   ],
   "source": [
    "#filtering unreasonable data i.e extremely large or small \n",
    "total_rideship_counts = (turnstiles_df_5[(turnstiles_df_5[\"Daily_ENTRIES\"]>1000)\n",
    "                                         &(turnstiles_df_5[\"Daily_ENTRIES\"]<10000000)][\"Daily_ENTRIES\"].values)\n",
    "fig, ax = plt.subplots(2, 1, figsize=(10, 10))\n",
    "\n",
    "ax[0].hist(total_rideship_counts)\n",
    "ax[0].set_title(\"Total Ridership Frequency\")\n",
    "\n",
    "indices = range(len(total_rideship_counts))\n",
    "ax[1].bar(indices, total_rideship_counts)\n",
    "ax[1].set_title(\"Total Ridership of Each Station\")"
   ]
  },
  {
   "cell_type": "code",
   "execution_count": null,
   "metadata": {
    "collapsed": true
   },
   "outputs": [],
   "source": []
  }
 ],
 "metadata": {
  "kernelspec": {
   "display_name": "Python 3",
   "language": "python",
   "name": "python3"
  },
  "language_info": {
   "codemirror_mode": {
    "name": "ipython",
    "version": 3
   },
   "file_extension": ".py",
   "mimetype": "text/x-python",
   "name": "python",
   "nbconvert_exporter": "python",
   "pygments_lexer": "ipython3",
   "version": "3.6.1"
  }
 },
 "nbformat": 4,
 "nbformat_minor": 2
}
